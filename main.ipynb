{
 "cells": [
  {
   "cell_type": "code",
   "execution_count": 1,
   "metadata": {},
   "outputs": [],
   "source": [
    "import cv2\n",
    "from PIL import Image\n",
    "import pytesseract"
   ]
  },
  {
   "cell_type": "code",
   "execution_count": 2,
   "metadata": {},
   "outputs": [],
   "source": [
    "def show_img(name, img):\n",
    "    cv2.imshow(name, img)\n",
    "    cv2.waitKey(0)\n",
    "    cv2.destroyAllWindows()\n",
    "\n",
    "def sharpen(img, sigma=100):    \n",
    "    # sigma = 5、15、25\n",
    "    blur_img = cv2.GaussianBlur(img, (0, 0), sigma)\n",
    "    usm = cv2.addWeighted(img, 1.5, blur_img, -0.5, 0)\n",
    "    return usm\n",
    "\n",
    "def cropImg(img, boxes, size):\n",
    "    (H, W) = size\n",
    "    h_s = H/608\n",
    "    w_s = W/608\n",
    "    x,y,w,h = boxes\n",
    "    crop_img = img[y:y+h, x:x+w]\n",
    "    mx = max(crop_img.shape[:2])\n",
    "    scale = 300/mx\n",
    "    crop_img = cv2.resize(crop_img, None, fx=scale*w_s, fy=scale*h_s)\n",
    "    return crop_img\n",
    "\n",
    "def OCR(crop_img):\n",
    "    crop_img = Image.fromarray(cv2.cvtColor(crop_img, cv2.COLOR_BGR2RGB))\n",
    "    # crop_img = Image.open('car.jpg')\n",
    "    text = pytesseract.image_to_string(crop_img, lang='eng')\n",
    "    print(text)"
   ]
  },
  {
   "cell_type": "code",
   "execution_count": 3,
   "metadata": {},
   "outputs": [],
   "source": [
    "\n",
    "weight_path = r\"./yolov4/yolov4-tiny-obj_best.weights\"\n",
    "cfg_path = r\"./yolov4/yolov4-tiny-obj.cfg\""
   ]
  },
  {
   "cell_type": "code",
   "execution_count": 4,
   "metadata": {},
   "outputs": [],
   "source": [
    "net = cv2.dnn.readNet(weight_path, cfg_path)\n",
    "model = cv2.dnn_DetectionModel(net)\n",
    "model.setInputParams(size=(608, 608), scale=1/255, swapRB=True)"
   ]
  },
  {
   "cell_type": "code",
   "execution_count": 7,
   "metadata": {},
   "outputs": [
    {
     "name": "stdout",
     "output_type": "stream",
     "text": [
      "|ANB 8888)\n",
      "\f\n",
      "\f\n",
      "icra\n",
      "\f\n"
     ]
    }
   ],
   "source": [
    "\n",
    "img_foloer = './images/'\n",
    "img_list = ['car.jpg', 'car1.jpg', 'car2.jpg']\n",
    "for i in range(len(img_list)):\n",
    "    img = cv2.imread(img_foloer+img_list[i])\n",
    "    # img = cv2.imread('car.jpg')\n",
    "    size = img.shape[:2]\n",
    "    img = cv2.resize(img, (608, 608), interpolation=cv2.INTER_AREA)\n",
    "    classes, confidence, [boxes] = model.detect(img, 0.3, 0.2)\n",
    "    crop_img = cropImg(img, boxes, size)\n",
    "    crop_img = cv2.cvtColor(crop_img, cv2.COLOR_BGR2GRAY)\n",
    "    ret, crop_img = cv2.threshold(crop_img, 100, 255, cv2.THRESH_BINARY_INV)\n",
    "    show_img('croped', crop_img)\n",
    "    # print(type(crop_img))\n",
    "    # cv2.imwrite('croped.jpg', crop_img)\n",
    "    OCR(crop_img)"
   ]
  },
  {
   "cell_type": "code",
   "execution_count": 26,
   "metadata": {},
   "outputs": [
    {
     "name": "stdout",
     "output_type": "stream",
     "text": [
      "|ANB 8888\n",
      "\f\n"
     ]
    }
   ],
   "source": [
    "\n",
    "\n"
   ]
  },
  {
   "cell_type": "code",
   "execution_count": 15,
   "metadata": {},
   "outputs": [
    {
     "ename": "ModuleNotFoundError",
     "evalue": "No module named 'easyocr'",
     "output_type": "error",
     "traceback": [
      "\u001b[1;31m---------------------------------------------------------------------------\u001b[0m",
      "\u001b[1;31mModuleNotFoundError\u001b[0m                       Traceback (most recent call last)",
      "\u001b[1;32mc:\\Users\\k3011\\Desktop\\ES_final\\main.ipynb Cell 7'\u001b[0m in \u001b[0;36m<cell line: 1>\u001b[1;34m()\u001b[0m\n\u001b[1;32m----> <a href='vscode-notebook-cell:/c%3A/Users/k3011/Desktop/ES_final/main.ipynb#ch0000006?line=0'>1</a>\u001b[0m \u001b[39mimport\u001b[39;00m \u001b[39measyocr\u001b[39;00m\n\u001b[0;32m      <a href='vscode-notebook-cell:/c%3A/Users/k3011/Desktop/ES_final/main.ipynb#ch0000006?line=1'>2</a>\u001b[0m reader \u001b[39m=\u001b[39m easyocr\u001b[39m.\u001b[39mReader([\u001b[39m'\u001b[39m\u001b[39men\u001b[39m\u001b[39m'\u001b[39m]) \u001b[39m# this needs to run only once to load the model into memory\u001b[39;00m\n\u001b[0;32m      <a href='vscode-notebook-cell:/c%3A/Users/k3011/Desktop/ES_final/main.ipynb#ch0000006?line=2'>3</a>\u001b[0m result \u001b[39m=\u001b[39m reader\u001b[39m.\u001b[39mreadtext(\u001b[39m'\u001b[39m\u001b[39mcroped.jpg\u001b[39m\u001b[39m'\u001b[39m)\n",
      "\u001b[1;31mModuleNotFoundError\u001b[0m: No module named 'easyocr'"
     ]
    }
   ],
   "source": [
    "# import easyocr\n",
    "# reader = easyocr.Reader(['en']) # this needs to run only once to load the model into memory\n",
    "# result = reader.readtext('croped.jpg')"
   ]
  }
 ],
 "metadata": {
  "interpreter": {
   "hash": "fe2063b89a2debb28b6e56346d086f997907e640acc2ebfa1e0dbe42a035f839"
  },
  "kernelspec": {
   "display_name": "Python 3.10.4 ('ES_final')",
   "language": "python",
   "name": "python3"
  },
  "language_info": {
   "codemirror_mode": {
    "name": "ipython",
    "version": 3
   },
   "file_extension": ".py",
   "mimetype": "text/x-python",
   "name": "python",
   "nbconvert_exporter": "python",
   "pygments_lexer": "ipython3",
   "version": "3.9.2"
  },
  "orig_nbformat": 4
 },
 "nbformat": 4,
 "nbformat_minor": 2
}
